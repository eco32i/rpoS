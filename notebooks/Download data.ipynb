{
 "cells": [
  {
   "cell_type": "markdown",
   "metadata": {},
   "source": [
    "## Data files accession numbers:\n",
    "\n",
    "| Sample | Accession |\n",
    "|--------|-----------|\n",
    "| `WT` | `SRR3879778` |\n",
    "| `WT +BCM` | `SRR3879779`, `SRR4244377` |\n",
    "| `Tmut` | `SRR3879780` |\n",
    "| `WT stat` | `SRR4244378` |\n",
    "| `Tmut stat` | `SRR4244385` |\n"
   ]
  },
  {
   "cell_type": "code",
   "execution_count": null,
   "metadata": {
    "collapsed": true
   },
   "outputs": [],
   "source": [
    "# sra-toolkit can be installed into different path on different platforms\n",
    "bin_prefetch=$(which prefetch)\n",
    "bin_sam-dump=$(which sam-dump)\n",
    "\n",
    "accessions=\"SRR3879778 SRR3879779 SRR3879780 SRR4244377 SRR4244378 SRR4244385\"\n",
    "\n",
    "for accession in $accessions\n",
    "do\n",
    "    $bin_prefetch $accession\n",
    "    $bin_sam-dump -u $sra_dir/$accession \\\n",
    "        | samtools view -bhS - > $output_dir/$accession\n",
    "done"
   ]
  },
  {
   "cell_type": "code",
   "execution_count": null,
   "metadata": {
    "collapsed": true
   },
   "outputs": [],
   "source": [
    "# The above script will output replicate .bam files as one combined file\n",
    "# The following will download original untouched .bam files we received \n",
    "# from the sequencing facility\n",
    "\n",
    "ftp_user=\"rpoS@ivsphoto.net\"\n",
    "ftp_pass='o+\"&cLF5O({B'\n",
    "\n",
    "files=$(cat ../data/datafiles.txt | cut -f11 -d' ' | grep bam)\n",
    "\n",
    "for f in files\n",
    "do\n",
    "    wget --user=$ftp_user --password=$ftp_pass \\\n",
    "        ftp://ftp.ivsphoto.net/$f\n",
    "done"
   ]
  }
 ],
 "metadata": {
  "kernelspec": {
   "display_name": "Bash",
   "language": "bash",
   "name": "bash"
  },
  "language_info": {
   "codemirror_mode": "shell",
   "file_extension": ".sh",
   "mimetype": "text/x-sh",
   "name": "bash"
  },
  "widgets": {
   "state": {},
   "version": "1.1.1"
  }
 },
 "nbformat": 4,
 "nbformat_minor": 0
}
