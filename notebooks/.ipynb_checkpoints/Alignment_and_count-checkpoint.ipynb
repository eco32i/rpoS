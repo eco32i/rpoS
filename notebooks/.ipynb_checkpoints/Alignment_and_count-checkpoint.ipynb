{
 "cells": [
  {
   "cell_type": "markdown",
   "metadata": {},
   "source": [
    "## Prepare the reference\n",
    "\n",
    "`NC_000913.3.fna` file contains the reference MG1655 sequence from:\n",
    "\n",
    "http://www.ncbi.nlm.nih.gov/nuccore/556503834?report=fasta"
   ]
  },
  {
   "cell_type": "markdown",
   "metadata": {},
   "source": [
    "### Build `bowtie2` index"
   ]
  },
  {
   "cell_type": "code",
   "execution_count": null,
   "metadata": {
    "collapsed": true
   },
   "outputs": [],
   "source": [
    "REFERENCE=\"../ref/MG1655\"\n",
    "GENOME_FASTA=\"../ref/NC_000913.3.fna\"\n",
    "\n",
    "indexer=$(which bowtie2-build)\n",
    "\n",
    "$indexer $GENOME_FASTA $REFERENCE"
   ]
  },
  {
   "cell_type": "markdown",
   "metadata": {},
   "source": [
    "### Align sequences"
   ]
  },
  {
   "cell_type": "code",
   "execution_count": null,
   "metadata": {
    "collapsed": true
   },
   "outputs": [],
   "source": [
    "OUTDIR=\"../results\"\n",
    "INPUTDIR=\"../data\"\n",
    "\n",
    "# These might be located in different directories on different platforms\n",
    "aligner=$(which bowtie2)\n",
    "bamtool=$(which bamtools)\n",
    "\n",
    "mkdir -p $OUTDIR\n",
    "\n",
    "for fa in $(ls $INPUTDIR | grep bam)\n",
    "do\n",
    "    echo \"Aligning $fa to reference...\"\n",
    "    base_name=$(echo \"$fa\" | cut -d'.' -f1)\n",
    "    bam_file=$OUTDIR/$base_name\".bam\"\n",
    "    $bamtool convert -format fastq -in $INPUTDIR/$fa  \\\n",
    "        | $aligner -p 28 -x $REFERENCE -U - \\\n",
    "        | samtools view -bhS - > $bam_file\n",
    "    echo \"sorting $bam_file ...\"\n",
    "    samtools sort $bam_file $OUTDIR/$base_name\"_sorted\"\n",
    "    echo \"indexing $bam_file ...\"\n",
    "    samtools index $OUTDIR/$base_name\"_sorted.bam\"\n",
    "done\n",
    "echo \"DONE.\""
   ]
  },
  {
   "cell_type": "markdown",
   "metadata": {},
   "source": [
    "### Count reads in genes"
   ]
  },
  {
   "cell_type": "code",
   "execution_count": null,
   "metadata": {
    "collapsed": true
   },
   "outputs": [],
   "source": [
    "counter=$(which htseq-count)\n",
    "\n",
    "for bamfile in ../results/*9.bam\n",
    "do\n",
    "    echo \"Processing: $bamfile\"\n",
    "    $counter -s no -t gene -i Name -f bam \\\n",
    "        $bamfile ../ref/NC_000913.gff > ../results/$(basename $bamfile .bam).counts\n",
    "done"
   ]
  }
 ],
 "metadata": {
  "kernelspec": {
   "display_name": "Bash",
   "language": "bash",
   "name": "bash"
  },
  "language_info": {
   "codemirror_mode": "shell",
   "file_extension": ".sh",
   "mimetype": "text/x-sh",
   "name": "bash"
  },
  "widgets": {
   "state": {},
   "version": "1.1.1"
  }
 },
 "nbformat": 4,
 "nbformat_minor": 0
}
