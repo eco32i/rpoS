{
 "cells": [
  {
   "cell_type": "code",
   "execution_count": null,
   "metadata": {
    "collapsed": true
   },
   "outputs": [],
   "source": [
    "REFERENCE=\"ref/MG1655\"\n",
    "OUTDIR=\"results\"\n",
    "FASTADIR=\"data\"\n",
    "\n",
    "mkdir -p $OUTDIR\n",
    "\n",
    "for fa in `ls $FASTADIR | grep bam`;\n",
    "do\n",
    "\techo \"Aligning $fa to reference...\"\n",
    "\tbase_name=`echo \"$fa\" | cut -d'.' -f1`\n",
    "#\tsam_file=$OUTDIR/$base_name\".sam\"\n",
    "\tbam_file=$OUTDIR/$base_name\".bam\"\n",
    "\techo \"BAMFILE:  $bam_file\"\n",
    "\techo \"FASTA: $FASTADIR/$fa\"\n",
    "\t~/bin/bamtools/bamtools convert -format fastq -in $FASTADIR/$fa  | ~/bin/bowtie2/bowtie2 -p 28 -x $REFERENCE -U - | samtools view -bhS - > $bam_file\n",
    "#\techo \"converting $sam_file to $bam_file ...\"\n",
    "#\tsamtools view -bhS $sam_file > $bam_file\n",
    "\techo \"sorting $bam_file ...\"\n",
    "\tsamtools sort $bam_file $OUTDIR/$base_name\"_sorted\"\n",
    "\techo \"indexing $bam_file ...\"\n",
    "    samtools index $OUTDIR/$base_name\"_sorted.bam\"\n",
    "done;\n",
    "echo \"DONE.\"\n"
   ]
  },
  {
   "cell_type": "code",
   "execution_count": null,
   "metadata": {
    "collapsed": true
   },
   "outputs": [],
   "source": [
    "for bamfile in ../results/*9.bam\n",
    "do\n",
    "    echo \"Processing: $bamfile\"\n",
    "    htseq-count -s no -t gene -i Name -f bam \\\n",
    "        $bamfile ../ref/NC_000913-1.gff > ../results/$(basename $bamfile .bam).counts\n",
    "done;\n"
   ]
  }
 ],
 "metadata": {
  "kernelspec": {
   "display_name": "Bash",
   "language": "bash",
   "name": "bash"
  },
  "language_info": {
   "codemirror_mode": "shell",
   "file_extension": ".sh",
   "mimetype": "text/x-sh",
   "name": "bash"
  },
  "widgets": {
   "state": {},
   "version": "1.1.1"
  }
 },
 "nbformat": 4,
 "nbformat_minor": 0
}
