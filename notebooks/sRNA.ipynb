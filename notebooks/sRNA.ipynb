{
 "cells": [
  {
   "cell_type": "markdown",
   "metadata": {},
   "source": [
    "## Small RNA binding sites\n",
    "\n",
    "Now we select UTRs that have `arcZ`, `dsrA`, and `rprA` binding sites and relate them to the genes upregulated in stationary phase and UTRs dependant on BCM"
   ]
  },
  {
   "cell_type": "code",
   "execution_count": 1,
   "metadata": {
    "collapsed": true
   },
   "outputs": [],
   "source": [
    "import pandas as pd\n",
    "import numpy as np\n",
    "\n",
    "import os\n",
    "import sys\n",
    "\n",
    "utils_path = os.path.abspath(os.path.join('..'))\n",
    "if utils_path not in sys.path:\n",
    "    sys.path.append(utils_path)\n",
    "    \n",
    "from utils.rpos import *\n"
   ]
  },
  {
   "cell_type": "code",
   "execution_count": 3,
   "metadata": {
    "collapsed": false
   },
   "outputs": [],
   "source": [
    "arcz_targets = get_predictions('../../ref/arcZ.csv')\n",
    "dsra_targets = get_predictions('../../ref/dsrA.csv')\n",
    "rpra_targets = get_predictions('../../ref/rprA.csv')"
   ]
  },
  {
   "cell_type": "code",
   "execution_count": 5,
   "metadata": {
    "collapsed": false,
    "scrolled": true
   },
   "outputs": [
    {
     "data": {
      "text/html": [
       "<div>\n",
       "<table border=\"1\" class=\"dataframe\">\n",
       "  <thead>\n",
       "    <tr style=\"text-align: right;\">\n",
       "      <th></th>\n",
       "      <th>coord_3</th>\n",
       "      <th>coord_5</th>\n",
       "      <th>energy</th>\n",
       "      <th>locus</th>\n",
       "      <th>rank</th>\n",
       "      <th>z_score</th>\n",
       "    </tr>\n",
       "  </thead>\n",
       "  <tbody>\n",
       "    <tr>\n",
       "      <th>0</th>\n",
       "      <td>3348564</td>\n",
       "      <td>3348535</td>\n",
       "      <td>-38.31</td>\n",
       "      <td>b3209</td>\n",
       "      <td>1</td>\n",
       "      <td>-10.81</td>\n",
       "    </tr>\n",
       "    <tr>\n",
       "      <th>1</th>\n",
       "      <td>2672671</td>\n",
       "      <td>2672649</td>\n",
       "      <td>-26.59</td>\n",
       "      <td>b2544</td>\n",
       "      <td>2</td>\n",
       "      <td>-6.55</td>\n",
       "    </tr>\n",
       "    <tr>\n",
       "      <th>2</th>\n",
       "      <td>2640457</td>\n",
       "      <td>2640442</td>\n",
       "      <td>-21.41</td>\n",
       "      <td>b2516</td>\n",
       "      <td>3</td>\n",
       "      <td>-4.66</td>\n",
       "    </tr>\n",
       "    <tr>\n",
       "      <th>3</th>\n",
       "      <td>3933169</td>\n",
       "      <td>3933148</td>\n",
       "      <td>-20.38</td>\n",
       "      <td>b3749</td>\n",
       "      <td>4</td>\n",
       "      <td>-4.29</td>\n",
       "    </tr>\n",
       "    <tr>\n",
       "      <th>4</th>\n",
       "      <td>3278629</td>\n",
       "      <td>3278605</td>\n",
       "      <td>-20.32</td>\n",
       "      <td>b3133</td>\n",
       "      <td>5</td>\n",
       "      <td>-4.27</td>\n",
       "    </tr>\n",
       "  </tbody>\n",
       "</table>\n",
       "</div>"
      ],
      "text/plain": [
       "   coord_3  coord_5  energy  locus  rank  z_score\n",
       "0  3348564  3348535  -38.31  b3209     1   -10.81\n",
       "1  2672671  2672649  -26.59  b2544     2    -6.55\n",
       "2  2640457  2640442  -21.41  b2516     3    -4.66\n",
       "3  3933169  3933148  -20.38  b3749     4    -4.29\n",
       "4  3278629  3278605  -20.32  b3133     5    -4.27"
      ]
     },
     "execution_count": 5,
     "metadata": {},
     "output_type": "execute_result"
    }
   ],
   "source": [
    "arcz_targets.head()"
   ]
  },
  {
   "cell_type": "code",
   "execution_count": 9,
   "metadata": {
    "collapsed": true
   },
   "outputs": [],
   "source": [
    "bed_from_df(arcz_targets, '../../results/redux/arcz.bed',\n",
    "            fields=['chrom', 'coord_5', 'coord_3', 'locus'],\n",
    "            field_overrides={'chrom': 'gi|556503834|ref|NC_000913.3|'})\n",
    "\n",
    "bed_from_df(dsra_targets, '../../results/redux/dsra.bed',\n",
    "            fields=['chrom', 'coord_5', 'coord_3', 'locus'],\n",
    "            field_overrides={'chrom': 'gi|556503834|ref|NC_000913.3|'})\n",
    "\n",
    "bed_from_df(rpra_targets, '../../results/redux/rpra.bed',\n",
    "            fields=['chrom', 'coord_5', 'coord_3', 'locus'],\n",
    "            field_overrides={'chrom': 'gi|556503834|ref|NC_000913.3|'})\n"
   ]
  },
  {
   "cell_type": "code",
   "execution_count": 7,
   "metadata": {
    "collapsed": true
   },
   "outputs": [],
   "source": [
    "import pybedtools"
   ]
  },
  {
   "cell_type": "code",
   "execution_count": 38,
   "metadata": {
    "collapsed": false
   },
   "outputs": [],
   "source": [
    "def fix_bed(bedfile, newfile):\n",
    "    with open(bedfile) as fi, open(newfile, 'w') as fo:\n",
    "        for line in fi:\n",
    "            fields = line.split('\\t')\n",
    "            if int(fields[1]) > int(fields[2]):\n",
    "                fields[1], fields[2] = fields[2], fields[1]\n",
    "            fo.write('\\t'.join(fields))"
   ]
  },
  {
   "cell_type": "code",
   "execution_count": 39,
   "metadata": {
    "collapsed": false
   },
   "outputs": [],
   "source": [
    "fix_bed('../../ref/5utrs.bed', '../../ref/5utrs.fix.bed')"
   ]
  },
  {
   "cell_type": "code",
   "execution_count": 40,
   "metadata": {
    "collapsed": false
   },
   "outputs": [
    {
     "name": "stdout",
     "output_type": "stream",
     "text": [
      "gi|556503834|ref|NC_000913.3|\t148\t190\t+\tthrL\r\n",
      "gi|556503834|ref|NC_000913.3|\t148\t190\t+\tthrL\r\n",
      "gi|556503834|ref|NC_000913.3|\t5030\t5234\t+\tyaaX\r\n",
      "gi|556503834|ref|NC_000913.3|\t6459\t6587\t-\tyaaA\r\n",
      "gi|556503834|ref|NC_000913.3|\t6459\t6615\t-\tyaaA\r\n",
      "gi|556503834|ref|NC_000913.3|\t7959\t8017\t-\tyaaJ\r\n",
      "gi|556503834|ref|NC_000913.3|\t8191\t8238\t+\ttalB\r\n",
      "gi|556503834|ref|NC_000913.3|\t10643\t10830\t+\thtgA\r\n",
      "gi|556503834|ref|NC_000913.3|\t10644\t10830\t+\thtgA\r\n",
      "gi|556503834|ref|NC_000913.3|\t11356\t11542\t-\tyaaW\r\n"
     ]
    }
   ],
   "source": [
    "!head ../../ref/5utrs.fix.bed"
   ]
  },
  {
   "cell_type": "code",
   "execution_count": 21,
   "metadata": {
    "collapsed": false
   },
   "outputs": [
    {
     "data": {
      "text/plain": [
       "<BedTool(../../results/redux/rpra_hits.all.bed)>"
      ]
     },
     "execution_count": 21,
     "metadata": {},
     "output_type": "execute_result"
    }
   ],
   "source": [
    "utrs = pybedtools.BedTool('../../ref/5utrs.fix.bed')\n",
    "arcz = pybedtools.BedTool('../../results/redux/arcz.bed')\n",
    "dsra = pybedtools.BedTool('../../results/redux/dsra.bed')\n",
    "rpra = pybedtools.BedTool('../../results/redux/rpra.bed')\n",
    "\n",
    "utrs.intersect(arcz, wa=True, wb=True).saveas('../../results/redux/arcz_hits.all.bed')\n",
    "utrs.intersect(dsra, wa=True, wb=True).saveas('../../results/redux/dsra_hits.all.bed')\n",
    "utrs.intersect(rpra, wa=True, wb=True).saveas('../../results/redux/rpra_hits.all.bed')"
   ]
  },
  {
   "cell_type": "code",
   "execution_count": 23,
   "metadata": {
    "collapsed": false
   },
   "outputs": [
    {
     "name": "stdout",
     "output_type": "stream",
     "text": [
      "589\r\n"
     ]
    }
   ],
   "source": [
    "!cat ../../results/redux/arcz_hits.all.bed | wc -l"
   ]
  },
  {
   "cell_type": "code",
   "execution_count": 24,
   "metadata": {
    "collapsed": false
   },
   "outputs": [
    {
     "name": "stdout",
     "output_type": "stream",
     "text": [
      "597\r\n"
     ]
    }
   ],
   "source": [
    "!cat ../../results/redux/dsra_hits.all.bed | wc -l"
   ]
  },
  {
   "cell_type": "code",
   "execution_count": 25,
   "metadata": {
    "collapsed": false
   },
   "outputs": [
    {
     "name": "stdout",
     "output_type": "stream",
     "text": [
      "604\r\n"
     ]
    }
   ],
   "source": [
    "!cat ../../results/redux/rpra_hits.all.bed | wc -l"
   ]
  },
  {
   "cell_type": "code",
   "execution_count": 26,
   "metadata": {
    "collapsed": true
   },
   "outputs": [],
   "source": [
    "genes = pd.DataFrame.from_csv('../../results/redux/d_offset200_win80_ratio2.csv', sep='\\t')"
   ]
  },
  {
   "cell_type": "code",
   "execution_count": 28,
   "metadata": {
    "collapsed": false
   },
   "outputs": [
    {
     "data": {
      "text/plain": [
       "222"
      ]
     },
     "execution_count": 28,
     "metadata": {},
     "output_type": "execute_result"
    }
   ],
   "source": [
    "gene_list = set(genes['gene'])\n",
    "len(gene_list)"
   ]
  },
  {
   "cell_type": "code",
   "execution_count": 29,
   "metadata": {
    "collapsed": true
   },
   "outputs": [],
   "source": [
    "def genes_from_bed(bedfile):\n",
    "    genes = []\n",
    "    with open(bedfile) as fi:\n",
    "        for line in fi:\n",
    "            fields = line.split('\\t')\n",
    "            genes.append(fields[4])\n",
    "    return set(genes)"
   ]
  },
  {
   "cell_type": "code",
   "execution_count": 30,
   "metadata": {
    "collapsed": false
   },
   "outputs": [
    {
     "data": {
      "text/plain": [
       "59"
      ]
     },
     "execution_count": 30,
     "metadata": {},
     "output_type": "execute_result"
    }
   ],
   "source": [
    "arcz_genes = gene_list & genes_from_bed('../../results/redux/arcz_hits.all.bed')\n",
    "len(arcz_genes)"
   ]
  },
  {
   "cell_type": "code",
   "execution_count": 31,
   "metadata": {
    "collapsed": false
   },
   "outputs": [
    {
     "data": {
      "text/plain": [
       "61"
      ]
     },
     "execution_count": 31,
     "metadata": {},
     "output_type": "execute_result"
    }
   ],
   "source": [
    "dsra_genes = gene_list & genes_from_bed('../../results/redux/dsra_hits.all.bed')\n",
    "len(dsra_genes)"
   ]
  },
  {
   "cell_type": "code",
   "execution_count": 32,
   "metadata": {
    "collapsed": false
   },
   "outputs": [
    {
     "data": {
      "text/plain": [
       "46"
      ]
     },
     "execution_count": 32,
     "metadata": {},
     "output_type": "execute_result"
    }
   ],
   "source": [
    "rpra_genes = gene_list & genes_from_bed('../../results/redux/rpra_hits.all.bed')\n",
    "len(rpra_genes)"
   ]
  },
  {
   "cell_type": "code",
   "execution_count": 33,
   "metadata": {
    "collapsed": false
   },
   "outputs": [
    {
     "data": {
      "text/plain": [
       "{'alx',\n",
       " 'astE',\n",
       " 'cspH',\n",
       " 'dcuR',\n",
       " 'dxr',\n",
       " 'entD',\n",
       " 'fic',\n",
       " 'fimB',\n",
       " 'ftsK',\n",
       " 'gntR',\n",
       " 'ibpB',\n",
       " 'ihfA',\n",
       " 'leuU',\n",
       " 'minE',\n",
       " 'mobA',\n",
       " 'motA',\n",
       " 'oxc',\n",
       " 'pgpB',\n",
       " 'purT',\n",
       " 'puuP',\n",
       " 'pyrE',\n",
       " 'rpoS',\n",
       " 'rsmD',\n",
       " 'rsmI',\n",
       " 'slyX',\n",
       " 'tgt',\n",
       " 'thiM',\n",
       " 'waaU',\n",
       " 'yaeF',\n",
       " 'yaiS',\n",
       " 'yajI',\n",
       " 'ybbY',\n",
       " 'ybcN',\n",
       " 'ybdR',\n",
       " 'ybhH',\n",
       " 'ycaI',\n",
       " 'ycaL',\n",
       " 'yceF',\n",
       " 'yceO',\n",
       " 'ydaE',\n",
       " 'ydfK',\n",
       " 'yecH',\n",
       " 'yegX',\n",
       " 'yehK',\n",
       " 'yfhR',\n",
       " 'yfiM',\n",
       " 'yfjM',\n",
       " 'yghA',\n",
       " 'yhiD',\n",
       " 'yhjR',\n",
       " 'yicO',\n",
       " 'yjiA',\n",
       " 'yjtD',\n",
       " 'ymfJ',\n",
       " 'ymiA',\n",
       " 'ynfC',\n",
       " 'yobB',\n",
       " 'yqeC',\n",
       " 'yqhC'}"
      ]
     },
     "execution_count": 33,
     "metadata": {},
     "output_type": "execute_result"
    }
   ],
   "source": [
    "arcz_genes"
   ]
  },
  {
   "cell_type": "code",
   "execution_count": 34,
   "metadata": {
    "collapsed": false
   },
   "outputs": [
    {
     "data": {
      "text/plain": [
       "{'alx',\n",
       " 'astE',\n",
       " 'creA',\n",
       " 'dgkA',\n",
       " 'ecpB',\n",
       " 'elaA',\n",
       " 'fic',\n",
       " 'focA',\n",
       " 'frdA',\n",
       " 'hdfR',\n",
       " 'ihfA',\n",
       " 'insJ',\n",
       " 'lysC',\n",
       " 'macB',\n",
       " 'minE',\n",
       " 'moaA',\n",
       " 'mutM',\n",
       " 'nudC',\n",
       " 'pgpB',\n",
       " 'potF',\n",
       " 'ppdD',\n",
       " 'prc',\n",
       " 'rimL',\n",
       " 'rpoS',\n",
       " 'rssA',\n",
       " 'slyX',\n",
       " 'smf',\n",
       " 'speB',\n",
       " 'waaY',\n",
       " 'yaaX',\n",
       " 'yahE',\n",
       " 'yaiY',\n",
       " 'ybcH',\n",
       " 'ybcN',\n",
       " 'ybeR',\n",
       " 'ybhH',\n",
       " 'yccX',\n",
       " 'ydaS',\n",
       " 'yedY',\n",
       " 'yehK',\n",
       " 'yehL',\n",
       " 'yeiB',\n",
       " 'yeiW',\n",
       " 'yejK',\n",
       " 'yfbO',\n",
       " 'yfhR',\n",
       " 'ygdG',\n",
       " 'yghA',\n",
       " 'ygiD',\n",
       " 'yhbU',\n",
       " 'yhiD',\n",
       " 'yicO',\n",
       " 'yihF',\n",
       " 'yihO',\n",
       " 'yjiA',\n",
       " 'ykgB',\n",
       " 'ymfJ',\n",
       " 'ymgE',\n",
       " 'ymiA',\n",
       " 'ynfC',\n",
       " 'yqgB'}"
      ]
     },
     "execution_count": 34,
     "metadata": {},
     "output_type": "execute_result"
    }
   ],
   "source": [
    "dsra_genes"
   ]
  },
  {
   "cell_type": "code",
   "execution_count": 35,
   "metadata": {
    "collapsed": false
   },
   "outputs": [
    {
     "data": {
      "text/plain": [
       "{'bamA',\n",
       " 'creA',\n",
       " 'crp',\n",
       " 'cspH',\n",
       " 'dcuR',\n",
       " 'dmlA',\n",
       " 'ecpB',\n",
       " 'elfD',\n",
       " 'fimB',\n",
       " 'ftsK',\n",
       " 'hofM',\n",
       " 'ihfA',\n",
       " 'mngA',\n",
       " 'mobA',\n",
       " 'mqsA',\n",
       " 'nudC',\n",
       " 'proP',\n",
       " 'puuP',\n",
       " 'rimL',\n",
       " 'rpoS',\n",
       " 'rsmI',\n",
       " 'slyX',\n",
       " 'waaQ',\n",
       " 'waaY',\n",
       " 'yahM',\n",
       " 'yaiY',\n",
       " 'ybcH',\n",
       " 'ybcN',\n",
       " 'ybdR',\n",
       " 'ybeR',\n",
       " 'ybhH',\n",
       " 'yceO',\n",
       " 'ycfJ',\n",
       " 'ycjD',\n",
       " 'yehK',\n",
       " 'yeiB',\n",
       " 'yeiW',\n",
       " 'yejK',\n",
       " 'yfiM',\n",
       " 'yhbU',\n",
       " 'yhcM',\n",
       " 'yihL',\n",
       " 'yobB',\n",
       " 'yqeI',\n",
       " 'yqgB',\n",
       " 'yrbN'}"
      ]
     },
     "execution_count": 35,
     "metadata": {},
     "output_type": "execute_result"
    }
   ],
   "source": [
    "rpra_genes"
   ]
  },
  {
   "cell_type": "code",
   "execution_count": 36,
   "metadata": {
    "collapsed": false
   },
   "outputs": [
    {
     "data": {
      "text/plain": [
       "{'ihfA', 'rpoS', 'slyX', 'ybcN', 'ybhH', 'yehK'}"
      ]
     },
     "execution_count": 36,
     "metadata": {},
     "output_type": "execute_result"
    }
   ],
   "source": [
    "arcz_genes & dsra_genes & rpra_genes"
   ]
  },
  {
   "cell_type": "code",
   "execution_count": 37,
   "metadata": {
    "collapsed": false
   },
   "outputs": [
    {
     "data": {
      "text/plain": [
       "117"
      ]
     },
     "execution_count": 37,
     "metadata": {},
     "output_type": "execute_result"
    }
   ],
   "source": [
    "len(arcz_genes | dsra_genes | rpra_genes )"
   ]
  },
  {
   "cell_type": "code",
   "execution_count": null,
   "metadata": {
    "collapsed": true
   },
   "outputs": [],
   "source": []
  }
 ],
 "metadata": {
  "kernelspec": {
   "display_name": "Python 3",
   "language": "python",
   "name": "python3"
  },
  "language_info": {
   "codemirror_mode": {
    "name": "ipython",
    "version": 3
   },
   "file_extension": ".py",
   "mimetype": "text/x-python",
   "name": "python",
   "nbconvert_exporter": "python",
   "pygments_lexer": "ipython3",
   "version": "3.4.3"
  }
 },
 "nbformat": 4,
 "nbformat_minor": 0
}
